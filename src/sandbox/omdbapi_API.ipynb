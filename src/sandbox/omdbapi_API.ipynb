{
 "cells": [
  {
   "cell_type": "code",
   "execution_count": 514,
   "metadata": {},
   "outputs": [],
   "source": [
    "import pandas as pd\n",
    "import json\n",
    "import requests"
   ]
  },
  {
   "cell_type": "code",
   "execution_count": 515,
   "metadata": {},
   "outputs": [],
   "source": [
    "#This notebook requests api calls from 'http://www.omdbapi.com/?i=tt3896198&apikey=533777cf' where the tt id\n",
    "#significes an imdb id alongside the api key"
   ]
  },
  {
   "cell_type": "code",
   "execution_count": 516,
   "metadata": {},
   "outputs": [],
   "source": [
    "#function to modify api url for programatic requests\n",
    "def mod_url(tt_id):\n",
    "    url = 'http://www.omdbapi.com/?i={}&apikey=533777cf'.format(tt_id)\n",
    "    return url"
   ]
  },
  {
   "cell_type": "code",
   "execution_count": 517,
   "metadata": {},
   "outputs": [],
   "source": [
    "#list of top 50 most profitable films, domestically\n",
    "\n",
    "tt_list = ['tt2488496', 'tt1825683', 'tt0369610', 'tt3606756', 'tt4154756', 'tt2771200', 'tt3748528', 'tt2283362',\n",
    "           'tt1431045', 'tt2527336', 'tt2709768', 'tt1396484', 'tt2277860', 'tt0451279', 'tt2293640', 'tt4154664',\n",
    "           'tt4881806', 'tt5463162', 'tt2709692', 'tt3470600', 'tt2948356', 'tt3896198', 'tt3469046', 'tt3040964',\n",
    "           'tt2096673', 'tt1517451', 'tt1477834', 'tt5052448', 'tt6644200', 'tt2820852', 'tt1727824', 'tt2250912',\n",
    "           'tt3498820', 'tt2848292', 'tt6857112', 'tt1386697', 'tt1502407', 'tt4846340', 'tt3104988', 'tt3501632',\n",
    "           'tt1398426', 'tt4972582', 'tt3783958', 'tt2395427', 'tt1951266', 'tt3659388', 'tt2543472', 'tt1661199',\n",
    "           'tt5089556', 'tt5220122', 'tt6146586']"
   ]
  },
  {
   "cell_type": "code",
   "execution_count": 518,
   "metadata": {},
   "outputs": [
    {
     "data": {
      "text/plain": [
       "{'Title': 'Star Wars: Episode VII - The Force Awakens',\n",
       " 'Year': '2015',\n",
       " 'Rated': 'PG-13',\n",
       " 'Released': '18 Dec 2015',\n",
       " 'Runtime': '138 min',\n",
       " 'Genre': 'Action, Adventure, Sci-Fi',\n",
       " 'Director': 'J.J. Abrams',\n",
       " 'Writer': 'Lawrence Kasdan, J.J. Abrams, Michael Arndt, George Lucas (based on characters created by)',\n",
       " 'Actors': 'Harrison Ford, Mark Hamill, Carrie Fisher, Adam Driver',\n",
       " 'Plot': \"Three decades after the Empire's defeat, a new threat arises in the militant First Order. Defected stormtrooper Finn and the scavenger Rey are caught up in the Resistance's search for the missing Luke Skywalker.\",\n",
       " 'Language': 'English',\n",
       " 'Country': 'USA',\n",
       " 'Awards': 'Nominated for 5 Oscars. Another 63 wins & 125 nominations.',\n",
       " 'Poster': 'https://m.media-amazon.com/images/M/MV5BOTAzODEzNDAzMl5BMl5BanBnXkFtZTgwMDU1MTgzNzE@._V1_SX300.jpg',\n",
       " 'Ratings': [{'Source': 'Internet Movie Database', 'Value': '7.9/10'},\n",
       "  {'Source': 'Rotten Tomatoes', 'Value': '93%'},\n",
       "  {'Source': 'Metacritic', 'Value': '81/100'}],\n",
       " 'Metascore': '81',\n",
       " 'imdbRating': '7.9',\n",
       " 'imdbVotes': '826,625',\n",
       " 'imdbID': 'tt2488496',\n",
       " 'Type': 'movie',\n",
       " 'DVD': '05 Apr 2016',\n",
       " 'BoxOffice': '$936,658,640',\n",
       " 'Production': 'Walt Disney Pictures',\n",
       " 'Website': 'N/A',\n",
       " 'Response': 'True'}"
      ]
     },
     "execution_count": 518,
     "metadata": {},
     "output_type": "execute_result"
    }
   ],
   "source": [
    "url = mod_url(tt_list[0])\n",
    "response = requests.request('GET', url)\n",
    "dic = json.loads(response.text)\n",
    "\n",
    "dic"
   ]
  },
  {
   "cell_type": "code",
   "execution_count": 519,
   "metadata": {},
   "outputs": [],
   "source": [
    "# dic['rt_rating'] = dic['Ratings'][2]['Value']\n",
    "# del dic['Ratings']\n",
    "\n",
    "# ex = pd.DataFrame(dic, index=[0])"
   ]
  },
  {
   "cell_type": "code",
   "execution_count": 520,
   "metadata": {},
   "outputs": [
    {
     "data": {
      "text/html": [
       "<div>\n",
       "<style scoped>\n",
       "    .dataframe tbody tr th:only-of-type {\n",
       "        vertical-align: middle;\n",
       "    }\n",
       "\n",
       "    .dataframe tbody tr th {\n",
       "        vertical-align: top;\n",
       "    }\n",
       "\n",
       "    .dataframe thead th {\n",
       "        text-align: right;\n",
       "    }\n",
       "</style>\n",
       "<table border=\"1\" class=\"dataframe\">\n",
       "  <thead>\n",
       "    <tr style=\"text-align: right;\">\n",
       "      <th></th>\n",
       "      <th>Title</th>\n",
       "      <th>Year</th>\n",
       "      <th>Rated</th>\n",
       "      <th>Released</th>\n",
       "      <th>Runtime</th>\n",
       "      <th>Genre</th>\n",
       "      <th>Director</th>\n",
       "      <th>Writer</th>\n",
       "      <th>Actors</th>\n",
       "      <th>Plot</th>\n",
       "      <th>...</th>\n",
       "      <th>imdbRating</th>\n",
       "      <th>imdbVotes</th>\n",
       "      <th>imdbID</th>\n",
       "      <th>Type</th>\n",
       "      <th>DVD</th>\n",
       "      <th>BoxOffice</th>\n",
       "      <th>Production</th>\n",
       "      <th>Website</th>\n",
       "      <th>Response</th>\n",
       "      <th>rt_rating</th>\n",
       "    </tr>\n",
       "  </thead>\n",
       "  <tbody>\n",
       "    <tr>\n",
       "      <td>0</td>\n",
       "      <td>Star Wars: Episode VII - The Force Awakens</td>\n",
       "      <td>2015</td>\n",
       "      <td>PG-13</td>\n",
       "      <td>18 Dec 2015</td>\n",
       "      <td>138 min</td>\n",
       "      <td>Action, Adventure, Sci-Fi</td>\n",
       "      <td>J.J. Abrams</td>\n",
       "      <td>Lawrence Kasdan, J.J. Abrams, Michael Arndt, G...</td>\n",
       "      <td>Harrison Ford, Mark Hamill, Carrie Fisher, Ada...</td>\n",
       "      <td>Three decades after the Empire's defeat, a new...</td>\n",
       "      <td>...</td>\n",
       "      <td>7.9</td>\n",
       "      <td>826,625</td>\n",
       "      <td>tt2488496</td>\n",
       "      <td>movie</td>\n",
       "      <td>05 Apr 2016</td>\n",
       "      <td>$936,658,640</td>\n",
       "      <td>Walt Disney Pictures</td>\n",
       "      <td>N/A</td>\n",
       "      <td>True</td>\n",
       "      <td>81/100</td>\n",
       "    </tr>\n",
       "  </tbody>\n",
       "</table>\n",
       "<p>1 rows × 25 columns</p>\n",
       "</div>"
      ],
      "text/plain": [
       "                                        Title  Year  Rated     Released  \\\n",
       "0  Star Wars: Episode VII - The Force Awakens  2015  PG-13  18 Dec 2015   \n",
       "\n",
       "   Runtime                      Genre     Director  \\\n",
       "0  138 min  Action, Adventure, Sci-Fi  J.J. Abrams   \n",
       "\n",
       "                                              Writer  \\\n",
       "0  Lawrence Kasdan, J.J. Abrams, Michael Arndt, G...   \n",
       "\n",
       "                                              Actors  \\\n",
       "0  Harrison Ford, Mark Hamill, Carrie Fisher, Ada...   \n",
       "\n",
       "                                                Plot  ... imdbRating  \\\n",
       "0  Three decades after the Empire's defeat, a new...  ...        7.9   \n",
       "\n",
       "  imdbVotes     imdbID   Type          DVD     BoxOffice  \\\n",
       "0   826,625  tt2488496  movie  05 Apr 2016  $936,658,640   \n",
       "\n",
       "             Production Website Response rt_rating  \n",
       "0  Walt Disney Pictures     N/A     True    81/100  \n",
       "\n",
       "[1 rows x 25 columns]"
      ]
     },
     "execution_count": 520,
     "metadata": {},
     "output_type": "execute_result"
    }
   ],
   "source": [
    "ex"
   ]
  },
  {
   "cell_type": "code",
   "execution_count": 521,
   "metadata": {},
   "outputs": [],
   "source": [
    "api_calls = list(range(1, len(tt_list)))"
   ]
  },
  {
   "cell_type": "code",
   "execution_count": 522,
   "metadata": {},
   "outputs": [],
   "source": [
    "df_ls = []\n",
    "\n",
    "for call in api_calls:\n",
    "    url = mod_url(tt_list[call])\n",
    "    response = requests.request('GET', url)\n",
    "    dic = json.loads(response.text)\n",
    "\n",
    "#     dic['rt_rating'] = dic['Ratings'][2]['Value']\n",
    "#     del dic['Ratings']\n",
    "\n",
    "#     cur_df = pd.DataFrame(dic, index=[0])\n",
    "#     pd.concat(ex, cur_df)\n",
    "    \n",
    "    df_ls.append(dic)  "
   ]
  },
  {
   "cell_type": "code",
   "execution_count": 523,
   "metadata": {},
   "outputs": [],
   "source": [
    "#this dict has top 50 api pulls\n",
    "api_pulls = df_ls\n",
    "temp_dict = df_ls"
   ]
  },
  {
   "cell_type": "code",
   "execution_count": 531,
   "metadata": {},
   "outputs": [],
   "source": [
    "f = open(\"dict.txt\",\"w\")\n",
    "f.write( str(api_pulls) )\n",
    "f.close()"
   ]
  },
  {
   "cell_type": "code",
   "execution_count": 524,
   "metadata": {},
   "outputs": [],
   "source": [
    "# loops = list(range(1,50))\n",
    "\n",
    "# for loop in loops:\n",
    "#     try:\n",
    "#         temp_dict[loop]['Ratings']\n",
    "#         print('got one')\n",
    "#     except:\n",
    "#         pass"
   ]
  },
  {
   "cell_type": "code",
   "execution_count": 525,
   "metadata": {},
   "outputs": [
    {
     "data": {
      "text/plain": [
       "{'Title': 'Hotel Transylvania 3: Summer Vacation',\n",
       " 'Year': '2018',\n",
       " 'Rated': 'PG',\n",
       " 'Released': '13 Jul 2018',\n",
       " 'Runtime': '97 min',\n",
       " 'Genre': 'Animation, Adventure, Comedy, Family, Fantasy, Horror',\n",
       " 'Director': 'Genndy Tartakovsky',\n",
       " 'Writer': 'Genndy Tartakovsky, Michael McCullers',\n",
       " 'Actors': 'Adam Sandler, Andy Samberg, Selena Gomez, Kevin James',\n",
       " 'Plot': 'Count Dracula and company participate in a cruise for sea-loving monsters, unaware that their boat is being commandeered by the monster-hating Van Helsing family.',\n",
       " 'Language': 'English, Spanish, German, Russian',\n",
       " 'Country': 'USA, South Korea',\n",
       " 'Awards': '2 wins & 8 nominations.',\n",
       " 'Poster': 'https://m.media-amazon.com/images/M/MV5BNjA1MzU5MTY3OF5BMl5BanBnXkFtZTgwNTU5MDA3NTM@._V1_SX300.jpg',\n",
       " 'Ratings': [{'Source': 'Internet Movie Database', 'Value': '6.3/10'},\n",
       "  {'Source': 'Rotten Tomatoes', 'Value': '62%'},\n",
       "  {'Source': 'Metacritic', 'Value': '54/100'}],\n",
       " 'Metascore': '54',\n",
       " 'imdbRating': '6.3',\n",
       " 'imdbVotes': '49,082',\n",
       " 'imdbID': 'tt5220122',\n",
       " 'Type': 'movie',\n",
       " 'DVD': '25 Sep 2018',\n",
       " 'BoxOffice': 'N/A',\n",
       " 'Production': 'Columbia Pictures / Sony Pictures Animation',\n",
       " 'Website': 'N/A',\n",
       " 'Response': 'True'}"
      ]
     },
     "execution_count": 525,
     "metadata": {},
     "output_type": "execute_result"
    }
   ],
   "source": [
    "temp_dict[48]"
   ]
  },
  {
   "cell_type": "code",
   "execution_count": 526,
   "metadata": {},
   "outputs": [],
   "source": [
    "test_record = 49"
   ]
  },
  {
   "cell_type": "code",
   "execution_count": 530,
   "metadata": {},
   "outputs": [
    {
     "name": "stdout",
     "output_type": "stream",
     "text": [
      "[{'Source': 'Internet Movie Database', 'Value': '7.5/10'}, {'Source': 'Rotten Tomatoes', 'Value': '90%'}, {'Source': 'Metacritic', 'Value': '73/100'}]\n"
     ]
    }
   ],
   "source": [
    "print(temp_dict[test_record]['Ratings'])"
   ]
  },
  {
   "cell_type": "code",
   "execution_count": 528,
   "metadata": {},
   "outputs": [
    {
     "ename": "KeyError",
     "evalue": "'rt_rating'",
     "output_type": "error",
     "traceback": [
      "\u001b[0;31m---------------------------------------------------------------------------\u001b[0m",
      "\u001b[0;31mKeyError\u001b[0m                                  Traceback (most recent call last)",
      "\u001b[0;32m<ipython-input-528-d34bfed29263>\u001b[0m in \u001b[0;36m<module>\u001b[0;34m\u001b[0m\n\u001b[0;32m----> 1\u001b[0;31m \u001b[0mprint\u001b[0m\u001b[0;34m(\u001b[0m\u001b[0mtemp_dict\u001b[0m\u001b[0;34m[\u001b[0m\u001b[0mtest_record\u001b[0m\u001b[0;34m]\u001b[0m\u001b[0;34m[\u001b[0m\u001b[0;34m'rt_rating'\u001b[0m\u001b[0;34m]\u001b[0m\u001b[0;34m)\u001b[0m\u001b[0;34m\u001b[0m\u001b[0;34m\u001b[0m\u001b[0m\n\u001b[0m",
      "\u001b[0;31mKeyError\u001b[0m: 'rt_rating'"
     ]
    }
   ],
   "source": [
    "print(temp_dict[test_record]['rt_rating'])"
   ]
  },
  {
   "cell_type": "code",
   "execution_count": 529,
   "metadata": {},
   "outputs": [
    {
     "ename": "KeyError",
     "evalue": "'mc_rating'",
     "output_type": "error",
     "traceback": [
      "\u001b[0;31m---------------------------------------------------------------------------\u001b[0m",
      "\u001b[0;31mKeyError\u001b[0m                                  Traceback (most recent call last)",
      "\u001b[0;32m<ipython-input-529-993440c57040>\u001b[0m in \u001b[0;36m<module>\u001b[0;34m\u001b[0m\n\u001b[0;32m----> 1\u001b[0;31m \u001b[0mprint\u001b[0m\u001b[0;34m(\u001b[0m\u001b[0mtemp_dict\u001b[0m\u001b[0;34m[\u001b[0m\u001b[0mtest_record\u001b[0m\u001b[0;34m]\u001b[0m\u001b[0;34m[\u001b[0m\u001b[0;34m'mc_rating'\u001b[0m\u001b[0;34m]\u001b[0m\u001b[0;34m)\u001b[0m\u001b[0;34m\u001b[0m\u001b[0;34m\u001b[0m\u001b[0m\n\u001b[0m",
      "\u001b[0;31mKeyError\u001b[0m: 'mc_rating'"
     ]
    }
   ],
   "source": [
    "print(temp_dict[test_record]['mc_rating'])"
   ]
  },
  {
   "cell_type": "code",
   "execution_count": 501,
   "metadata": {},
   "outputs": [],
   "source": [
    "# loops = list(range(1,50))\n",
    "\n",
    "# for loop in loops:\n",
    "# #test for existance of imdb rating and capture if so, null if not\n",
    "#     try:\n",
    "#         temp_dict[loop]['imdb_rating'] = temp_dict[loop]['imdbRating']\n",
    "#     except:\n",
    "#         temp_dict[loop]['imdb_rating'] = ''\n",
    "#         print(str(loop) + ' imdb error')\n",
    "\n",
    "# #test for existance of rotten tomatoes rating and capture if so, null if not\n",
    "#     try:\n",
    "#         if temp_dict[loop]['Ratings'][1] == 'Rotten Tomatoes':\n",
    "#             temp_dict[loop]['rt_rating'] = temp_dict[loop]['Ratings'][1]\n",
    "#         else:\n",
    "#             temp_dict[loop]['rt_rating'] = ''\n",
    "#     except:\n",
    "#         temp_dict[loop]['rt_rating'] = ''\n",
    "    \n",
    "# #test for existance of metacritic rating and capture if so, null if not\n",
    "#     try:\n",
    "#         if temp_dict[loop]['Ratings'][2] == 'Metacritic':\n",
    "#             temp_dict[loop]['mc_rating'] = temp_dict[loop]['Ratings'][2]\n",
    "#         else:\n",
    "#             temp_dict[loop]['mc_rating'] = ''\n",
    "#     except:\n",
    "#         temp_dict[loop]['mc_rating'] = ''\n",
    "        \n",
    "# #test for existance of 'Ratings' dictonary element and drop if so, nothing if not\n",
    "# #     try:\n",
    "# #         del dic['Ratings']\n",
    "# #     except:\n",
    "# #         pass"
   ]
  },
  {
   "cell_type": "code",
   "execution_count": 503,
   "metadata": {},
   "outputs": [
    {
     "ename": "KeyError",
     "evalue": "'Plot'",
     "output_type": "error",
     "traceback": [
      "\u001b[0;31m---------------------------------------------------------------------------\u001b[0m",
      "\u001b[0;31mKeyError\u001b[0m                                  Traceback (most recent call last)",
      "\u001b[0;32m<ipython-input-503-fde28713c1af>\u001b[0m in \u001b[0;36m<module>\u001b[0;34m\u001b[0m\n\u001b[1;32m      1\u001b[0m \u001b[0;32mfor\u001b[0m \u001b[0mloop\u001b[0m \u001b[0;32min\u001b[0m \u001b[0mloops\u001b[0m\u001b[0;34m:\u001b[0m\u001b[0;34m\u001b[0m\u001b[0;34m\u001b[0m\u001b[0m\n\u001b[0;32m----> 2\u001b[0;31m     \u001b[0;32mdel\u001b[0m \u001b[0mtemp_dict\u001b[0m\u001b[0;34m[\u001b[0m\u001b[0mloop\u001b[0m\u001b[0;34m]\u001b[0m\u001b[0;34m[\u001b[0m\u001b[0;34m'Plot'\u001b[0m\u001b[0;34m]\u001b[0m\u001b[0;34m\u001b[0m\u001b[0;34m\u001b[0m\u001b[0m\n\u001b[0m\u001b[1;32m      3\u001b[0m     \u001b[0;32mdel\u001b[0m \u001b[0mtemp_dict\u001b[0m\u001b[0;34m[\u001b[0m\u001b[0mloop\u001b[0m\u001b[0;34m]\u001b[0m\u001b[0;34m[\u001b[0m\u001b[0;34m'DVD'\u001b[0m\u001b[0;34m]\u001b[0m\u001b[0;34m\u001b[0m\u001b[0;34m\u001b[0m\u001b[0m\n\u001b[1;32m      4\u001b[0m     \u001b[0;32mdel\u001b[0m \u001b[0mtemp_dict\u001b[0m\u001b[0;34m[\u001b[0m\u001b[0mloop\u001b[0m\u001b[0;34m]\u001b[0m\u001b[0;34m[\u001b[0m\u001b[0;34m'Response'\u001b[0m\u001b[0;34m]\u001b[0m\u001b[0;34m\u001b[0m\u001b[0;34m\u001b[0m\u001b[0m\n\u001b[1;32m      5\u001b[0m     \u001b[0;32mdel\u001b[0m \u001b[0mtemp_dict\u001b[0m\u001b[0;34m[\u001b[0m\u001b[0mloop\u001b[0m\u001b[0;34m]\u001b[0m\u001b[0;34m[\u001b[0m\u001b[0;34m'Type'\u001b[0m\u001b[0;34m]\u001b[0m\u001b[0;34m\u001b[0m\u001b[0;34m\u001b[0m\u001b[0m\n",
      "\u001b[0;31mKeyError\u001b[0m: 'Plot'"
     ]
    }
   ],
   "source": [
    "for loop in loops:\n",
    "    del temp_dict[loop]['Poster']\n",
    "    del temp_dict[loop]['Plot']\n",
    "    del temp_dict[loop]['DVD']\n",
    "    del temp_dict[loop]['Response']\n",
    "    del temp_dict[loop]['Type']"
   ]
  },
  {
   "cell_type": "code",
   "execution_count": 487,
   "metadata": {},
   "outputs": [
    {
     "data": {
      "text/plain": [
       "{'Title': 'Halloween',\n",
       " 'Year': '2018',\n",
       " 'Rated': 'R',\n",
       " 'Released': '19 Oct 2018',\n",
       " 'Runtime': '106 min',\n",
       " 'Genre': 'Horror, Thriller',\n",
       " 'Director': 'David Gordon Green',\n",
       " 'Writer': 'John Carpenter (based on characters created by), Debra Hill (based on characters created by), Jeff Fradley, Danny McBride, David Gordon Green',\n",
       " 'Actors': 'Jamie Lee Curtis, Judy Greer, Andi Matichak, James Jude Courtney',\n",
       " 'Plot': 'Laurie Strode confronts her long-time foe Michael Myers, the masked figure who has haunted her since she narrowly escaped his killing spree on Halloween night four decades ago.',\n",
       " 'Language': 'English',\n",
       " 'Country': 'USA',\n",
       " 'Awards': '3 wins & 24 nominations.',\n",
       " 'Metascore': '67',\n",
       " 'imdbRating': '6.6',\n",
       " 'imdbVotes': '105,585',\n",
       " 'imdbID': 'tt1502407',\n",
       " 'Type': 'movie',\n",
       " 'DVD': 'N/A',\n",
       " 'BoxOffice': 'N/A',\n",
       " 'Production': 'The Weinstein Company',\n",
       " 'Website': 'N/A',\n",
       " 'Response': 'True',\n",
       " 'imdb_rating': '6.6',\n",
       " 'rt_rating': '',\n",
       " 'mc_rating': ''}"
      ]
     },
     "execution_count": 487,
     "metadata": {},
     "output_type": "execute_result"
    }
   ],
   "source": [
    "temp_dict[35]"
   ]
  },
  {
   "cell_type": "code",
   "execution_count": null,
   "metadata": {},
   "outputs": [],
   "source": [
    "# for loop in loops:\n",
    "#     try:\n",
    "# #         temp_dict[loop]['rt_rating'] = temp_dict[loop]['Ratings'][0]['Value']\n",
    "# #         del temp_dict[loop]['Ratings']\n",
    "\n",
    "#         print(temp_dict['Ratings'][0]['Value'])\n",
    "#     except:\n",
    "#         print(str(loop) + ' is an error')\n",
    "        \n",
    "        \n",
    "        \n",
    "        \n",
    "#     try temp_dict[loop]['Ratings'][0]['Value']:\n",
    "#         print(str(loop) + ' is good')\n",
    "#     except:\n",
    "#         print(str(loop) + ' is bad')\n",
    "    \n",
    "    \n",
    "    \n",
    "    \n",
    "    \n",
    "#     try:\n",
    "#         temp_dict[49]['rt_rating'] = temp_dict[49]['Ratings'][0]['Value']\n",
    "#         del temp_dict[49]['Ratings']\n",
    "#     except:\n",
    "#         print(str(loop) + ' failed')\n",
    "\n",
    "# cur_df = pd.DataFrame(temp_dict, index=[0])\n",
    "\n",
    "    \n",
    "# for loop in loops:\n",
    "# #     print(loop)\n",
    "#     temp_dict[loop]['rt_rating'] = temp_dict[loop]['Ratings'][0]['Value']\n",
    "#     del temp_dict[loop]['Ratings']"
   ]
  },
  {
   "cell_type": "code",
   "execution_count": null,
   "metadata": {},
   "outputs": [],
   "source": []
  },
  {
   "cell_type": "code",
   "execution_count": null,
   "metadata": {},
   "outputs": [],
   "source": []
  }
 ],
 "metadata": {
  "kernelspec": {
   "display_name": "Python 3",
   "language": "python",
   "name": "python3"
  },
  "language_info": {
   "codemirror_mode": {
    "name": "ipython",
    "version": 3
   },
   "file_extension": ".py",
   "mimetype": "text/x-python",
   "name": "python",
   "nbconvert_exporter": "python",
   "pygments_lexer": "ipython3",
   "version": "3.7.4"
  }
 },
 "nbformat": 4,
 "nbformat_minor": 2
}
