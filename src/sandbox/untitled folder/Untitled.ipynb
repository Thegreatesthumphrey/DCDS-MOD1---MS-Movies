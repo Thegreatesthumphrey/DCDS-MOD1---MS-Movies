{
 "cells": [
  {
   "cell_type": "code",
   "execution_count": 1,
   "metadata": {},
   "outputs": [],
   "source": [
    "import pandas as pd\n",
    "import datetime\n",
    "import numpy as np"
   ]
  },
  {
   "cell_type": "code",
   "execution_count": 2,
   "metadata": {},
   "outputs": [],
   "source": [
    "df = pd.read_csv('/Users/alphonsowoodbury/DS/code/Projects/DCDS-MOD1---MS-Movies/src/sandbox/budgets_and_genres')"
   ]
  },
  {
   "cell_type": "code",
   "execution_count": 3,
   "metadata": {},
   "outputs": [],
   "source": [
    "genres = df['genres']"
   ]
  },
  {
   "cell_type": "code",
   "execution_count": 4,
   "metadata": {},
   "outputs": [
    {
     "data": {
      "text/plain": [
       "0            Drama,Horror,Sci-Fi\n",
       "1       Action,Adventure,Fantasy\n",
       "2        Action,Adventure,Sci-Fi\n",
       "3        Action,Adventure,Sci-Fi\n",
       "4         Family,Fantasy,Musical\n",
       "5        Action,Adventure,Sci-Fi\n",
       "6          Biography,Drama,Music\n",
       "7        Action,Adventure,Sci-Fi\n",
       "8        Action,Adventure,Sci-Fi\n",
       "9           Drama,Family,Fantasy\n",
       "10                Comedy,Romance\n",
       "11       Action,Adventure,Comedy\n",
       "12       Action,Adventure,Comedy\n",
       "13    Adventure,Animation,Comedy\n",
       "14    Adventure,Animation,Comedy\n",
       "15         Action,Crime,Thriller\n",
       "16       Horror,Mystery,Thriller\n",
       "17               Horror,Thriller\n",
       "18       Biography,Drama,History\n",
       "19    Adventure,Animation,Comedy\n",
       "20    Action,Adventure,Animation\n",
       "21    Adventure,Animation,Comedy\n",
       "22               Horror,Thriller\n",
       "23       Action,Adventure,Comedy\n",
       "24       Action,Adventure,Sci-Fi\n",
       "25       Action,Adventure,Sci-Fi\n",
       "26            Comedy,Drama,Music\n",
       "27    Adventure,Animation,Comedy\n",
       "28                  Comedy,Music\n",
       "29       Action,Adventure,Sci-Fi\n",
       "30       Animation,Comedy,Family\n",
       "31       Action,Adventure,Sci-Fi\n",
       "32       Biography,Drama,History\n",
       "33      Action,Adventure,Fantasy\n",
       "34       Action,Adventure,Sci-Fi\n",
       "35        Adventure,Drama,Family\n",
       "36        Adventure,Drama,Sci-Fi\n",
       "37    Adventure,Animation,Comedy\n",
       "38       Action,Adventure,Comedy\n",
       "39       Horror,Mystery,Thriller\n",
       "40                  Drama,Family\n",
       "41      Action,Adventure,Fantasy\n",
       "42    Adventure,Animation,Comedy\n",
       "Name: genres, dtype: object"
      ]
     },
     "execution_count": 4,
     "metadata": {},
     "output_type": "execute_result"
    }
   ],
   "source": [
    "genres"
   ]
  },
  {
   "cell_type": "code",
   "execution_count": 5,
   "metadata": {},
   "outputs": [],
   "source": [
    "profit = df['domestic_profit']"
   ]
  },
  {
   "cell_type": "code",
   "execution_count": 6,
   "metadata": {},
   "outputs": [
    {
     "data": {
      "text/plain": [
       "0     171024361\n",
       "1     175061807\n",
       "2     128405868\n",
       "3     378815482\n",
       "4     344014165\n",
       "5     500059566\n",
       "6     161303339\n",
       "7     158084349\n",
       "8     251525952\n",
       "9     106151353\n",
       "10    144532921\n",
       "11    214591735\n",
       "12    305070709\n",
       "13    189624300\n",
       "14    286295561\n",
       "15    163007020\n",
       "16    171040665\n",
       "17    149342015\n",
       "18    144607287\n",
       "19    102500092\n",
       "20    408581744\n",
       "21    181461711\n",
       "22    292481748\n",
       "23    314508916\n",
       "24    437270625\n",
       "25    247719760\n",
       "26    131101803\n",
       "27    262045770\n",
       "28    155296230\n",
       "29    332177324\n",
       "30    195329045\n",
       "31    159201140\n",
       "32    133197785\n",
       "33    150100054\n",
       "34    121723902\n",
       "35    189001123\n",
       "36    120433663\n",
       "37    293384330\n",
       "38    135058289\n",
       "39    155006930\n",
       "40    112422809\n",
       "41    262563408\n",
       "42    191268248\n",
       "Name: domestic_profit, dtype: int64"
      ]
     },
     "execution_count": 6,
     "metadata": {},
     "output_type": "execute_result"
    }
   ],
   "source": [
    "profit"
   ]
  },
  {
   "cell_type": "code",
   "execution_count": null,
   "metadata": {},
   "outputs": [],
   "source": []
  }
 ],
 "metadata": {
  "kernelspec": {
   "display_name": "Python 3",
   "language": "python",
   "name": "python3"
  },
  "language_info": {
   "codemirror_mode": {
    "name": "ipython",
    "version": 3
   },
   "file_extension": ".py",
   "mimetype": "text/x-python",
   "name": "python",
   "nbconvert_exporter": "python",
   "pygments_lexer": "ipython3",
   "version": "3.7.4"
  }
 },
 "nbformat": 4,
 "nbformat_minor": 2
}
