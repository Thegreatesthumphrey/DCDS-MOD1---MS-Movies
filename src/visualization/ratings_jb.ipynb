{
 "cells": [
  {
   "cell_type": "code",
   "execution_count": 352,
   "metadata": {},
   "outputs": [],
   "source": [
    "import matplotlib.pyplot as plt\n",
    "import numpy as np\n",
    "import pandas as pd\n",
    "import seaborn as sns\n",
    "from sklearn.linear_model import LinearRegression\n",
    "%matplotlib inline"
   ]
  },
  {
   "cell_type": "code",
   "execution_count": 353,
   "metadata": {},
   "outputs": [
    {
     "data": {
      "text/html": [
       "<div>\n",
       "<style scoped>\n",
       "    .dataframe tbody tr th:only-of-type {\n",
       "        vertical-align: middle;\n",
       "    }\n",
       "\n",
       "    .dataframe tbody tr th {\n",
       "        vertical-align: top;\n",
       "    }\n",
       "\n",
       "    .dataframe thead th {\n",
       "        text-align: right;\n",
       "    }\n",
       "</style>\n",
       "<table border=\"1\" class=\"dataframe\">\n",
       "  <thead>\n",
       "    <tr style=\"text-align: right;\">\n",
       "      <th></th>\n",
       "      <th>Title</th>\n",
       "      <th>Rated</th>\n",
       "      <th>domestic_profit</th>\n",
       "      <th>roi</th>\n",
       "      <th>production_budget</th>\n",
       "      <th>release_month</th>\n",
       "    </tr>\n",
       "  </thead>\n",
       "  <tbody>\n",
       "    <tr>\n",
       "      <td>0</td>\n",
       "      <td>Star Wars: Episode VII - The Force Awakens</td>\n",
       "      <td>PG-13</td>\n",
       "      <td>630662225</td>\n",
       "      <td>206.098766</td>\n",
       "      <td>306000000</td>\n",
       "      <td>Dec</td>\n",
       "    </tr>\n",
       "    <tr>\n",
       "      <td>1</td>\n",
       "      <td>Black Panther</td>\n",
       "      <td>PG-13</td>\n",
       "      <td>500059566</td>\n",
       "      <td>250.029783</td>\n",
       "      <td>200000000</td>\n",
       "      <td>Feb</td>\n",
       "    </tr>\n",
       "    <tr>\n",
       "      <td>2</td>\n",
       "      <td>Jurassic World</td>\n",
       "      <td>PG-13</td>\n",
       "      <td>437270625</td>\n",
       "      <td>203.381686</td>\n",
       "      <td>215000000</td>\n",
       "      <td>Jun</td>\n",
       "    </tr>\n",
       "    <tr>\n",
       "      <td>3</td>\n",
       "      <td>Incredibles 2</td>\n",
       "      <td>PG</td>\n",
       "      <td>408581744</td>\n",
       "      <td>204.290872</td>\n",
       "      <td>200000000</td>\n",
       "      <td>Jun</td>\n",
       "    </tr>\n",
       "    <tr>\n",
       "      <td>4</td>\n",
       "      <td>Avengers: Infinity War</td>\n",
       "      <td>PG-13</td>\n",
       "      <td>378815482</td>\n",
       "      <td>126.271827</td>\n",
       "      <td>300000000</td>\n",
       "      <td>Apr</td>\n",
       "    </tr>\n",
       "    <tr>\n",
       "      <td>6</td>\n",
       "      <td>Rogue One: A Star Wars Story</td>\n",
       "      <td>PG-13</td>\n",
       "      <td>332177324</td>\n",
       "      <td>166.088662</td>\n",
       "      <td>200000000</td>\n",
       "      <td>Dec</td>\n",
       "    </tr>\n",
       "    <tr>\n",
       "      <td>7</td>\n",
       "      <td>Jumanji: Welcome to the Jungle</td>\n",
       "      <td>PG-13</td>\n",
       "      <td>314508916</td>\n",
       "      <td>349.454351</td>\n",
       "      <td>90000000</td>\n",
       "      <td>Dec</td>\n",
       "    </tr>\n",
       "    <tr>\n",
       "      <td>8</td>\n",
       "      <td>Deadpool</td>\n",
       "      <td>R</td>\n",
       "      <td>305070709</td>\n",
       "      <td>525.983981</td>\n",
       "      <td>58000000</td>\n",
       "      <td>Feb</td>\n",
       "    </tr>\n",
       "    <tr>\n",
       "      <td>9</td>\n",
       "      <td>Star Wars: Episode VIII - The Last Jedi</td>\n",
       "      <td>PG-13</td>\n",
       "      <td>303181382</td>\n",
       "      <td>95.640815</td>\n",
       "      <td>317000000</td>\n",
       "      <td>Dec</td>\n",
       "    </tr>\n",
       "    <tr>\n",
       "      <td>13</td>\n",
       "      <td>Wonder Woman</td>\n",
       "      <td>PG-13</td>\n",
       "      <td>262563408</td>\n",
       "      <td>175.042272</td>\n",
       "      <td>150000000</td>\n",
       "      <td>Jun</td>\n",
       "    </tr>\n",
       "    <tr>\n",
       "      <td>15</td>\n",
       "      <td>Captain Marvel</td>\n",
       "      <td>PG-13</td>\n",
       "      <td>251525952</td>\n",
       "      <td>143.729115</td>\n",
       "      <td>175000000</td>\n",
       "      <td>Mar</td>\n",
       "    </tr>\n",
       "    <tr>\n",
       "      <td>16</td>\n",
       "      <td>Jurassic World: Fallen Kingdom</td>\n",
       "      <td>PG-13</td>\n",
       "      <td>247719760</td>\n",
       "      <td>145.717506</td>\n",
       "      <td>170000000</td>\n",
       "      <td>Jun</td>\n",
       "    </tr>\n",
       "    <tr>\n",
       "      <td>17</td>\n",
       "      <td>Deadpool 2</td>\n",
       "      <td>R</td>\n",
       "      <td>214591735</td>\n",
       "      <td>195.083395</td>\n",
       "      <td>110000000</td>\n",
       "      <td>May</td>\n",
       "    </tr>\n",
       "    <tr>\n",
       "      <td>21</td>\n",
       "      <td>Guardians of the Galaxy Vol. 2</td>\n",
       "      <td>PG-13</td>\n",
       "      <td>189813101</td>\n",
       "      <td>94.906550</td>\n",
       "      <td>200000000</td>\n",
       "      <td>May</td>\n",
       "    </tr>\n",
       "    <tr>\n",
       "      <td>26</td>\n",
       "      <td>Aquaman</td>\n",
       "      <td>PG-13</td>\n",
       "      <td>175061807</td>\n",
       "      <td>109.413629</td>\n",
       "      <td>160000000</td>\n",
       "      <td>Dec</td>\n",
       "    </tr>\n",
       "    <tr>\n",
       "      <td>31</td>\n",
       "      <td>Spider-Man: Homecoming</td>\n",
       "      <td>PG-13</td>\n",
       "      <td>159201140</td>\n",
       "      <td>90.972080</td>\n",
       "      <td>175000000</td>\n",
       "      <td>Jul</td>\n",
       "    </tr>\n",
       "    <tr>\n",
       "      <td>32</td>\n",
       "      <td>Captain America: Civil War</td>\n",
       "      <td>PG-13</td>\n",
       "      <td>158084349</td>\n",
       "      <td>63.233740</td>\n",
       "      <td>250000000</td>\n",
       "      <td>May</td>\n",
       "    </tr>\n",
       "    <tr>\n",
       "      <td>35</td>\n",
       "      <td>Halloween</td>\n",
       "      <td>R</td>\n",
       "      <td>150100054</td>\n",
       "      <td>85.771459</td>\n",
       "      <td>175000000</td>\n",
       "      <td>Aug</td>\n",
       "    </tr>\n",
       "    <tr>\n",
       "      <td>39</td>\n",
       "      <td>Thor: Ragnarok</td>\n",
       "      <td>PG-13</td>\n",
       "      <td>135058289</td>\n",
       "      <td>75.032383</td>\n",
       "      <td>180000000</td>\n",
       "      <td>Nov</td>\n",
       "    </tr>\n",
       "    <tr>\n",
       "      <td>43</td>\n",
       "      <td>Avengers: Age of Ultron</td>\n",
       "      <td>PG-13</td>\n",
       "      <td>128405868</td>\n",
       "      <td>38.840250</td>\n",
       "      <td>330600000</td>\n",
       "      <td>May</td>\n",
       "    </tr>\n",
       "    <tr>\n",
       "      <td>44</td>\n",
       "      <td>The Hunger Games: Mockingjay - Part 2</td>\n",
       "      <td>PG-13</td>\n",
       "      <td>121723902</td>\n",
       "      <td>76.077439</td>\n",
       "      <td>160000000</td>\n",
       "      <td>Nov</td>\n",
       "    </tr>\n",
       "  </tbody>\n",
       "</table>\n",
       "</div>"
      ],
      "text/plain": [
       "                                         Title  Rated  domestic_profit  \\\n",
       "0   Star Wars: Episode VII - The Force Awakens  PG-13        630662225   \n",
       "1                                Black Panther  PG-13        500059566   \n",
       "2                               Jurassic World  PG-13        437270625   \n",
       "3                                Incredibles 2     PG        408581744   \n",
       "4                       Avengers: Infinity War  PG-13        378815482   \n",
       "6                 Rogue One: A Star Wars Story  PG-13        332177324   \n",
       "7               Jumanji: Welcome to the Jungle  PG-13        314508916   \n",
       "8                                     Deadpool      R        305070709   \n",
       "9      Star Wars: Episode VIII - The Last Jedi  PG-13        303181382   \n",
       "13                                Wonder Woman  PG-13        262563408   \n",
       "15                              Captain Marvel  PG-13        251525952   \n",
       "16              Jurassic World: Fallen Kingdom  PG-13        247719760   \n",
       "17                                  Deadpool 2      R        214591735   \n",
       "21              Guardians of the Galaxy Vol. 2  PG-13        189813101   \n",
       "26                                     Aquaman  PG-13        175061807   \n",
       "31                      Spider-Man: Homecoming  PG-13        159201140   \n",
       "32                  Captain America: Civil War  PG-13        158084349   \n",
       "35                                   Halloween      R        150100054   \n",
       "39                              Thor: Ragnarok  PG-13        135058289   \n",
       "43                     Avengers: Age of Ultron  PG-13        128405868   \n",
       "44       The Hunger Games: Mockingjay - Part 2  PG-13        121723902   \n",
       "\n",
       "           roi  production_budget release_month  \n",
       "0   206.098766          306000000           Dec  \n",
       "1   250.029783          200000000           Feb  \n",
       "2   203.381686          215000000           Jun  \n",
       "3   204.290872          200000000           Jun  \n",
       "4   126.271827          300000000           Apr  \n",
       "6   166.088662          200000000           Dec  \n",
       "7   349.454351           90000000           Dec  \n",
       "8   525.983981           58000000           Feb  \n",
       "9    95.640815          317000000           Dec  \n",
       "13  175.042272          150000000           Jun  \n",
       "15  143.729115          175000000           Mar  \n",
       "16  145.717506          170000000           Jun  \n",
       "17  195.083395          110000000           May  \n",
       "21   94.906550          200000000           May  \n",
       "26  109.413629          160000000           Dec  \n",
       "31   90.972080          175000000           Jul  \n",
       "32   63.233740          250000000           May  \n",
       "35   85.771459          175000000           Aug  \n",
       "39   75.032383          180000000           Nov  \n",
       "43   38.840250          330600000           May  \n",
       "44   76.077439          160000000           Nov  "
      ]
     },
     "execution_count": 353,
     "metadata": {},
     "output_type": "execute_result"
    }
   ],
   "source": [
    "mdf = pd.read_csv('/Users/algrhythm/Flatiron/Projects/DCDS-MOD1---MS-Movies/data/processed/movies_0304_1851.csv')\n",
    "mdf['roi'] = mdf['domestic_profit'] / mdf['production_budget'] * 100\n",
    "aa = mdf.loc[mdf['film_type'] == 'Action/Adventure']\n",
    "\n",
    "rating_profit = aa[['Title', 'Rated', 'domestic_profit', 'roi', 'production_budget', 'release_month']]\n",
    "rating_profit"
   ]
  },
  {
   "cell_type": "code",
   "execution_count": 354,
   "metadata": {},
   "outputs": [
    {
     "data": {
      "text/plain": [
       "count        21\n",
       "unique        3\n",
       "top       PG-13\n",
       "freq         17\n",
       "Name: Rated, dtype: object"
      ]
     },
     "execution_count": 354,
     "metadata": {},
     "output_type": "execute_result"
    }
   ],
   "source": [
    "rating_profit['Rated'].describe()"
   ]
  },
  {
   "cell_type": "code",
   "execution_count": 355,
   "metadata": {},
   "outputs": [],
   "source": [
    "rg = rating_profit.groupby(['Rated']).sum()\n",
    "rg = rg.sort_values(by='domestic_profit', ascending=False)"
   ]
  },
  {
   "cell_type": "code",
   "execution_count": 356,
   "metadata": {},
   "outputs": [
    {
     "data": {
      "text/html": [
       "<div>\n",
       "<style scoped>\n",
       "    .dataframe tbody tr th:only-of-type {\n",
       "        vertical-align: middle;\n",
       "    }\n",
       "\n",
       "    .dataframe tbody tr th {\n",
       "        vertical-align: top;\n",
       "    }\n",
       "\n",
       "    .dataframe thead th {\n",
       "        text-align: right;\n",
       "    }\n",
       "</style>\n",
       "<table border=\"1\" class=\"dataframe\">\n",
       "  <thead>\n",
       "    <tr style=\"text-align: right;\">\n",
       "      <th></th>\n",
       "      <th>domestic_profit</th>\n",
       "      <th>roi</th>\n",
       "      <th>production_budget</th>\n",
       "    </tr>\n",
       "    <tr>\n",
       "      <th>Rated</th>\n",
       "      <th></th>\n",
       "      <th></th>\n",
       "      <th></th>\n",
       "    </tr>\n",
       "  </thead>\n",
       "  <tbody>\n",
       "    <tr>\n",
       "      <td>PG-13</td>\n",
       "      <td>4725833096</td>\n",
       "      <td>2409.930855</td>\n",
       "      <td>3578600000</td>\n",
       "    </tr>\n",
       "    <tr>\n",
       "      <td>R</td>\n",
       "      <td>669762498</td>\n",
       "      <td>806.838836</td>\n",
       "      <td>343000000</td>\n",
       "    </tr>\n",
       "    <tr>\n",
       "      <td>PG</td>\n",
       "      <td>408581744</td>\n",
       "      <td>204.290872</td>\n",
       "      <td>200000000</td>\n",
       "    </tr>\n",
       "  </tbody>\n",
       "</table>\n",
       "</div>"
      ],
      "text/plain": [
       "       domestic_profit          roi  production_budget\n",
       "Rated                                                 \n",
       "PG-13       4725833096  2409.930855         3578600000\n",
       "R            669762498   806.838836          343000000\n",
       "PG           408581744   204.290872          200000000"
      ]
     },
     "execution_count": 356,
     "metadata": {},
     "output_type": "execute_result"
    }
   ],
   "source": [
    "rg"
   ]
  },
  {
   "cell_type": "code",
   "execution_count": 357,
   "metadata": {},
   "outputs": [],
   "source": [
    "rg.reset_index\n",
    "rg['mpaa'] = rg.index\n",
    "rg['count'] = [1, 17, 3]\n",
    "rg['agg_roi'] = rg['domestic_profit'] / rg['production_budget']\n",
    "# rg = rg.sort_values(by='count', ascending=True)"
   ]
  },
  {
   "cell_type": "code",
   "execution_count": 358,
   "metadata": {},
   "outputs": [
    {
     "data": {
      "text/plain": [
       "<matplotlib.axes._subplots.AxesSubplot at 0x7fbab161ef90>"
      ]
     },
     "execution_count": 358,
     "metadata": {},
     "output_type": "execute_result"
    },
    {
     "data": {
      "image/png": "[encoded data removed]",
      "text/plain": [
       "<Figure size 432x288 with 1 Axes>"
      ]
     },
     "metadata": {
      "needs_background": "light"
     },
     "output_type": "display_data"
    }
   ],
   "source": [
    "# aa.sort_values(by='domestic_profit')\n",
    "sns.barplot(data=rg, x='domestic_profit', y='mpaa', ci=None)\n",
    "# sns.barplot(data=aa, x='roi', y='Rated')\n",
    "#average domestic profit per MPAA Rating"
   ]
  },
  {
   "cell_type": "code",
   "execution_count": 359,
   "metadata": {},
   "outputs": [],
   "source": [
    "# sns.barplot(data=rg, x='agg_roi', y='mpaa', ci=None)"
   ]
  },
  {
   "cell_type": "code",
   "execution_count": 360,
   "metadata": {},
   "outputs": [],
   "source": [
    "months = rating_profit.groupby(['release_month']).sum()\n",
    "months = months.sort_values(by='domestic_profit', ascending=False)\n",
    "months['Release Month'] = months.index\n",
    "\n",
    "months['Aggregate ROI'] = months['domestic_profit'] / months['production_budget'] * 100\n"
   ]
  },
  {
   "cell_type": "code",
   "execution_count": 361,
   "metadata": {},
   "outputs": [
    {
     "data": {
      "text/plain": [
       "<matplotlib.axes._subplots.AxesSubplot at 0x7fbae194ae50>"
      ]
     },
     "execution_count": 361,
     "metadata": {},
     "output_type": "execute_result"
    },
    {
     "data": {
      "image/png": "[encoded data removed]",
      "text/plain": [
       "<Figure size 432x288 with 1 Axes>"
      ]
     },
     "metadata": {
      "needs_background": "light"
     },
     "output_type": "display_data"
    }
   ],
   "source": [
    "months = months.sort_values(by='domestic_profit', ascending=False)\n",
    "sns.barplot(data=months, x='domestic_profit', y='Release Month', ci=None)"
   ]
  },
  {
   "cell_type": "code",
   "execution_count": 362,
   "metadata": {},
   "outputs": [
    {
     "data": {
      "text/plain": [
       "<matplotlib.axes._subplots.AxesSubplot at 0x7fbac20f03d0>"
      ]
     },
     "execution_count": 362,
     "metadata": {},
     "output_type": "execute_result"
    },
    {
     "data": {
      "image/png": "[encoded data removed]",
      "text/plain": [
       "<Figure size 432x288 with 1 Axes>"
      ]
     },
     "metadata": {
      "needs_background": "light"
     },
     "output_type": "display_data"
    }
   ],
   "source": [
    "months = months.sort_values(by='Aggregate ROI', ascending=False)\n",
    "sns.barplot(data=months, x='Aggregate ROI', y='Release Month', ci=None)"
   ]
  },
  {
   "cell_type": "code",
   "execution_count": 363,
   "metadata": {},
   "outputs": [
    {
     "data": {
      "text/html": [
       "<div>\n",
       "<style scoped>\n",
       "    .dataframe tbody tr th:only-of-type {\n",
       "        vertical-align: middle;\n",
       "    }\n",
       "\n",
       "    .dataframe tbody tr th {\n",
       "        vertical-align: top;\n",
       "    }\n",
       "\n",
       "    .dataframe thead th {\n",
       "        text-align: right;\n",
       "    }\n",
       "</style>\n",
       "<table border=\"1\" class=\"dataframe\">\n",
       "  <thead>\n",
       "    <tr style=\"text-align: right;\">\n",
       "      <th></th>\n",
       "      <th>Unnamed: 0</th>\n",
       "      <th>Title</th>\n",
       "      <th>Year</th>\n",
       "      <th>release_month</th>\n",
       "      <th>Rated</th>\n",
       "      <th>Runtime</th>\n",
       "      <th>Metascore</th>\n",
       "      <th>imdbRating</th>\n",
       "      <th>imdbVotes</th>\n",
       "      <th>production_budget</th>\n",
       "      <th>domestic_gross</th>\n",
       "      <th>domestic_profit</th>\n",
       "      <th>genres</th>\n",
       "      <th>primary_genre</th>\n",
       "      <th>secondary_genre</th>\n",
       "      <th>tertiary_genre</th>\n",
       "      <th>film_type</th>\n",
       "      <th>imdbID</th>\n",
       "      <th>roi</th>\n",
       "    </tr>\n",
       "  </thead>\n",
       "  <tbody>\n",
       "    <tr>\n",
       "      <td>0</td>\n",
       "      <td>0</td>\n",
       "      <td>Star Wars: Episode VII - The Force Awakens</td>\n",
       "      <td>2015</td>\n",
       "      <td>Dec</td>\n",
       "      <td>PG-13</td>\n",
       "      <td>138 min</td>\n",
       "      <td>81.0</td>\n",
       "      <td>7.9</td>\n",
       "      <td>826,625</td>\n",
       "      <td>306000000</td>\n",
       "      <td>936662225</td>\n",
       "      <td>630662225</td>\n",
       "      <td>Action,Adventure,Fantasy</td>\n",
       "      <td>Action</td>\n",
       "      <td>Adventure</td>\n",
       "      <td>Fantasy</td>\n",
       "      <td>Action/Adventure</td>\n",
       "      <td>tt2488496</td>\n",
       "      <td>206.098766</td>\n",
       "    </tr>\n",
       "    <tr>\n",
       "      <td>1</td>\n",
       "      <td>1</td>\n",
       "      <td>Black Panther</td>\n",
       "      <td>2018</td>\n",
       "      <td>Feb</td>\n",
       "      <td>PG-13</td>\n",
       "      <td>134 min</td>\n",
       "      <td>88.0</td>\n",
       "      <td>7.3</td>\n",
       "      <td>565,951</td>\n",
       "      <td>200000000</td>\n",
       "      <td>700059566</td>\n",
       "      <td>500059566</td>\n",
       "      <td>Action,Adventure,Sci-Fi</td>\n",
       "      <td>Action</td>\n",
       "      <td>Adventure</td>\n",
       "      <td>Sci-Fi</td>\n",
       "      <td>Action/Adventure</td>\n",
       "      <td>tt1825683</td>\n",
       "      <td>250.029783</td>\n",
       "    </tr>\n",
       "    <tr>\n",
       "      <td>2</td>\n",
       "      <td>2</td>\n",
       "      <td>Jurassic World</td>\n",
       "      <td>2015</td>\n",
       "      <td>Jun</td>\n",
       "      <td>PG-13</td>\n",
       "      <td>124 min</td>\n",
       "      <td>59.0</td>\n",
       "      <td>7.0</td>\n",
       "      <td>556,312</td>\n",
       "      <td>215000000</td>\n",
       "      <td>652270625</td>\n",
       "      <td>437270625</td>\n",
       "      <td>Action,Adventure,Sci-Fi</td>\n",
       "      <td>Action</td>\n",
       "      <td>Adventure</td>\n",
       "      <td>Sci-Fi</td>\n",
       "      <td>Action/Adventure</td>\n",
       "      <td>tt0369610</td>\n",
       "      <td>203.381686</td>\n",
       "    </tr>\n",
       "  </tbody>\n",
       "</table>\n",
       "</div>"
      ],
      "text/plain": [
       "   Unnamed: 0                                       Title  Year release_month  \\\n",
       "0           0  Star Wars: Episode VII - The Force Awakens  2015           Dec   \n",
       "1           1                               Black Panther  2018           Feb   \n",
       "2           2                              Jurassic World  2015           Jun   \n",
       "\n",
       "   Rated  Runtime  Metascore  imdbRating imdbVotes  production_budget  \\\n",
       "0  PG-13  138 min       81.0         7.9   826,625          306000000   \n",
       "1  PG-13  134 min       88.0         7.3   565,951          200000000   \n",
       "2  PG-13  124 min       59.0         7.0   556,312          215000000   \n",
       "\n",
       "   domestic_gross  domestic_profit                    genres primary_genre  \\\n",
       "0       936662225        630662225  Action,Adventure,Fantasy        Action   \n",
       "1       700059566        500059566   Action,Adventure,Sci-Fi        Action   \n",
       "2       652270625        437270625   Action,Adventure,Sci-Fi        Action   \n",
       "\n",
       "  secondary_genre tertiary_genre         film_type     imdbID         roi  \n",
       "0       Adventure        Fantasy  Action/Adventure  tt2488496  206.098766  \n",
       "1       Adventure         Sci-Fi  Action/Adventure  tt1825683  250.029783  \n",
       "2       Adventure         Sci-Fi  Action/Adventure  tt0369610  203.381686  "
      ]
     },
     "execution_count": 363,
     "metadata": {},
     "output_type": "execute_result"
    }
   ],
   "source": [
    "pg13 = aa.loc[aa['Rated'] == 'PG-13']\n",
    "pg13.head(3)"
   ]
  },
  {
   "cell_type": "code",
   "execution_count": 364,
   "metadata": {},
   "outputs": [
    {
     "data": {
      "text/plain": [
       "<matplotlib.axes._subplots.AxesSubplot at 0x7fba98bdf550>"
      ]
     },
     "execution_count": 364,
     "metadata": {},
     "output_type": "execute_result"
    },
    {
     "data": {
      "image/png": "[encoded data removed]",
      "text/plain": [
       "<Figure size 432x288 with 1 Axes>"
      ]
     },
     "metadata": {
      "needs_background": "light"
     },
     "output_type": "display_data"
    }
   ],
   "source": [
    "sns.scatterplot(data=pg13, x='production_budget', y='domestic_profit')"
   ]
  },
  {
   "cell_type": "code",
   "execution_count": 365,
   "metadata": {},
   "outputs": [],
   "source": [
    "x = np.array(pg13['production_budget']).reshape((-1, 1))\n",
    "y = np.array(pg13['domestic_profit'])"
   ]
  },
  {
   "cell_type": "code",
   "execution_count": 366,
   "metadata": {},
   "outputs": [
    {
     "name": "stdout",
     "output_type": "stream",
     "text": [
      "coefficient of determination: 0.07230661503903135\n",
      "intercept: 157774922.27760774\n",
      "intercept: 157774922.27760774\n"
     ]
    }
   ],
   "source": [
    "model = LinearRegression()\n",
    "model.fit(x, y)\n",
    "model = LinearRegression().fit(x, y)\n",
    "r_sq = model.score(x, y)\n",
    "print('coefficient of determination:', r_sq)\n",
    "print('intercept:', model.intercept_)\n",
    "print('intercept:', model.intercept_)"
   ]
  }
 ],
 "metadata": {
  "kernelspec": {
   "display_name": "Python 3",
   "language": "python",
   "name": "python3"
  },
  "language_info": {
   "codemirror_mode": {
    "name": "ipython",
    "version": 3
   },
   "file_extension": ".py",
   "mimetype": "text/x-python",
   "name": "python",
   "nbconvert_exporter": "python",
   "pygments_lexer": "ipython3",
   "version": "3.7.4"
  }
 },
 "nbformat": 4,
 "nbformat_minor": 2
}
