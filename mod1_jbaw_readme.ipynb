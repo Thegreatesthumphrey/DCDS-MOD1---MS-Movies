{
 "cells": [
  {
   "cell_type": "markdown",
   "metadata": {},
   "source": [
    "# Novel Movie Studio Analysis\n",
    "## Flatiron School DC Data Science Module 1 Project\n",
    "#### Joe Buzzelli and Alphonso Woodbury\n",
    "Presented 03.06.2020"
   ]
  },
  {
   "cell_type": "markdown",
   "metadata": {},
   "source": [
    "### Background\n",
    "\n",
    "Our challenge was to analyze movie industry data and provide a client (Microsoft) guidance for developing a new studio. We provided visuals, analysis, and a brief presentation to share our findings and recommendations. "
   ]
  },
  {
   "cell_type": "markdown",
   "metadata": {},
   "source": [
    "#### Questions\n",
    "To best serve our client, we propose 3 questions after reviewing the available data:\n",
    "* Which genre(s) are indicated in the highest performing movies over the last five years?\n",
    "* Is there a relationship between a movies MPAA rating and performance?\n",
    "* When is the best time to release the film?\n"
   ]
  },
  {
   "cell_type": "markdown",
   "metadata": {},
   "source": [
    "#### Data Sources\n",
    "* The Numbers\n",
    "* IMDB\n",
    "* Omdb\n",
    "\n",
    "#### Assumptions\n",
    "* Consumer trends evolve rapidly and will only analyze film data since 2015\n",
    "* Our client will initially focus distribution in the United States\n"
   ]
  },
  {
   "cell_type": "markdown",
   "metadata": {},
   "source": [
    "### The data\n",
    "\n",
    "From the provided datasets, we chose to use the IMDb titles and The Numbers budgets, and added data using the OpenDB API.\n",
    "\n",
    "The **imdb.titles** and **tn.budgets** datasets were joined on the film titles using a composite id made with the movies year of release; this prevents bad joins on identical films with identical names. \n",
    "\n",
    "The **API** data supplemented the provided budget and genre data with MPAA and viewer rating info. The resulting dataset is sorted by domestic profit descending and limited to the top 50 titles released since 2015."
   ]
  },
  {
   "cell_type": "markdown",
   "metadata": {},
   "source": [
    "### Findings"
   ]
  },
  {
   "cell_type": "markdown",
   "metadata": {},
   "source": [
    "With a focus on profitability, we recommend that Microsoft produce a film meeting the following criteria:\n",
    "* 42% of the Top 50 are Action/adventure\n",
    "\n",
    "* Action/adventure movies tend to have higher budgets and profits\n",
    "\n",
    "* PG-13 Action/Adventure are the most profitable\n",
    "\n",
    "* Films released in December or June exhibit the highest profits\n",
    "\n"
   ]
  },
  {
   "cell_type": "markdown",
   "metadata": {},
   "source": [
    "### Recommendations\n",
    "With a focus on profitability, we recommend that Microsoft produce a film meeting the following criteria:\n",
    "* Action/adventure\n",
    "* Rated PG-13\n",
    "* Released in either December of June."
   ]
  },
  {
   "cell_type": "markdown",
   "metadata": {},
   "source": [
    "### Project Expansion Suggestions\n",
    "* Test hypothesis against broader data set to explore potential statistical correlations\n",
    "\n",
    "* Expand analysis to movie talents’ (directors, writers) impact to profitability\n",
    "\n",
    "* Use sentiment analysis to better understand consumers’ movie interests"
   ]
  },
  {
   "cell_type": "markdown",
   "metadata": {},
   "source": [
    "Project Organization\n",
    "------------\n",
    "\n",
    "    ├── LICENSE\n",
    "    ├── Makefile           <- Makefile with commands like `make data` or `make train`\n",
    "    ├── README.md          <- The top-level README for developers using this project.\n",
    "    ├── data\n",
    "    │   ├── external       <- Data from third party sources.\n",
    "    │   ├── interim        <- Intermediate data that has been transformed.\n",
    "    │   ├── processed      <- The final, canonical data sets for modeling.\n",
    "    │   └── raw            <- The original, immutable data dump.\n",
    "    │\n",
    "    ├── docs               <- A default Sphinx project; see sphinx-doc.org for details\n",
    "    │\n",
    "    ├── models             <- Trained and serialized models, model predictions, or model summaries\n",
    "    │\n",
    "    ├── notebooks          <- Jupyter notebooks. Naming convention is a number (for ordering),\n",
    "    │                         the creator's initials, and a short `-` delimited description, e.g.\n",
    "    │                         `1.0-jqp-initial-data-exploration`.\n",
    "    │\n",
    "    ├── references         <- Data dictionaries, manuals, and all other explanatory materials.\n",
    "    │\n",
    "    ├── reports            <- Generated analysis as HTML, PDF, LaTeX, etc.\n",
    "    │   └── figures        <- Generated graphics and figures to be used in reporting\n",
    "    │\n",
    "    ├── requirements.txt   <- The requirements file for reproducing the analysis environment, e.g.\n",
    "    │                         generated with `pip freeze > requirements.txt`\n",
    "    │\n",
    "    ├── setup.py           <- makes project pip installable (pip install -e .) so src can be imported\n",
    "    ├── src                <- Source code for use in this project.\n",
    "    │   ├── __init__.py    <- Makes src a Python module\n",
    "    │   │\n",
    "    │   ├── data           <- Scripts to download or generate data\n",
    "    │   │   └── make_dataset.py\n",
    "    │   │\n",
    "    │   ├── features       <- Scripts to turn raw data into features for modeling\n",
    "    │   │   └── build_features.py\n",
    "    │   │\n",
    "    │   ├── models         <- Scripts to train models and then use trained models to make\n",
    "    │   │   │                 predictions\n",
    "    │   │   ├── predict_model.py\n",
    "    │   │   └── train_model.py\n",
    "    │   │\n",
    "    │   └── visualization  <- Scripts to create exploratory and results oriented visualizations\n",
    "    │       └── visualize.py\n",
    "    │\n",
    "    └── tox.ini            <- tox file with settings for running tox; see tox.testrun.org\n",
    "\n",
    "\n",
    "--------\n",
    "\n",
    "<p><small>Project based on the <a target=\"_blank\" href=\"https://drivendata.github.io/cookiecutter-data-science/\">cookiecutter data science project template</a>. #cookiecutterdatascience</small></p>"
   ]
  },
  {
   "cell_type": "code",
   "execution_count": null,
   "metadata": {},
   "outputs": [],
   "source": []
  }
 ],
 "metadata": {
  "kernelspec": {
   "display_name": "Python 3",
   "language": "python",
   "name": "python3"
  },
  "language_info": {
   "codemirror_mode": {
    "name": "ipython",
    "version": 3
   },
   "file_extension": ".py",
   "mimetype": "text/x-python",
   "name": "python",
   "nbconvert_exporter": "python",
   "pygments_lexer": "ipython3",
   "version": "3.7.4"
  }
 },
 "nbformat": 4,
 "nbformat_minor": 2
}
