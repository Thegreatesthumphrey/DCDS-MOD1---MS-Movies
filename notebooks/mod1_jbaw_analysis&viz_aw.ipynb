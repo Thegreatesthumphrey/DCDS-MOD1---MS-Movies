{
 "cells": [
  {
   "cell_type": "markdown",
   "metadata": {},
   "source": [
    "# Module 1 Project: Novel Movie Studio Analysis\n",
    "\n",
    "Joe Buzzelli & Alphonso Woodbury"
   ]
  },
  {
   "cell_type": "markdown",
   "metadata": {},
   "source": []
  },
  {
   "cell_type": "markdown",
   "metadata": {},
   "source": [
    "TLDR; action adventure is not always as profitable; if choosing that route, must use additional data to ascertain how to tap into market. \n",
    "\n",
    "still to find, certain months may be best for each type of movie"
   ]
  },
  {
   "cell_type": "markdown",
   "metadata": {},
   "source": []
  },
  {
   "cell_type": "code",
   "execution_count": 1,
   "metadata": {},
   "outputs": [],
   "source": [
    "import pandas as pd\n",
    "import datetime\n",
    "import numpy as np\n",
    "import matplotlib.pyplot as plt\n",
    "import calendar"
   ]
  },
  {
   "cell_type": "code",
   "execution_count": 2,
   "metadata": {},
   "outputs": [],
   "source": [
    "#import datasets\n",
    "movies = pd.read_csv('/Users/alphonsowoodbury/DS/code/Projects/DCDS-MOD1---MS-Movies/data/processed/movies')"
   ]
  },
  {
   "cell_type": "code",
   "execution_count": null,
   "metadata": {},
   "outputs": [],
   "source": [
    "movies.head(50)"
   ]
  },
  {
   "cell_type": "code",
   "execution_count": null,
   "metadata": {},
   "outputs": [],
   "source": []
  },
  {
   "cell_type": "code",
   "execution_count": null,
   "metadata": {},
   "outputs": [],
   "source": []
  },
  {
   "cell_type": "code",
   "execution_count": null,
   "metadata": {},
   "outputs": [],
   "source": []
  },
  {
   "cell_type": "markdown",
   "metadata": {},
   "source": [
    "### Viz 1: Genre analysis\n",
    "\n",
    "#### 1A - Top 50 profitable films genres (unsplit)"
   ]
  },
  {
   "cell_type": "code",
   "execution_count": null,
   "metadata": {},
   "outputs": [],
   "source": [
    "genres_counts = movies['genres'].value_counts()\n",
    "genres_counts = genres_counts.sort_values(ascending=True)\n",
    "genres   = genres_counts.keys()\n",
    "counts   = genres_counts.values"
   ]
  },
  {
   "cell_type": "code",
   "execution_count": null,
   "metadata": {},
   "outputs": [],
   "source": [
    "plt.figure(figsize=(20, 15)) \n",
    "\n",
    "ax1 = plt.barh(genres, counts, color='rebeccapurple')\n",
    "plt.title('Genres of the Top 50 Profitable Movies since 2015',fontweight='bold')\n",
    "plt.xlabel(\"Genre\",fontweight='bold')\n",
    "plt.ylabel(\"Movie Count\",fontweight='bold')\n",
    "\n",
    "#ax.text('n='+counts)\n",
    "plt.show()"
   ]
  },
  {
   "cell_type": "markdown",
   "metadata": {},
   "source": [
    "#### 1B - Action/Adventure"
   ]
  },
  {
   "cell_type": "markdown",
   "metadata": {},
   "source": [
    "ROI = prod / budget"
   ]
  },
  {
   "cell_type": "code",
   "execution_count": null,
   "metadata": {},
   "outputs": [],
   "source": [
    "AA_counts = movies['film_type'].value_counts()\n",
    "count = AA_counts.sum()\n"
   ]
  },
  {
   "cell_type": "code",
   "execution_count": null,
   "metadata": {},
   "outputs": [],
   "source": [
    "aaprofit = movies.groupby(movies['film_type']).sum()\n",
    "aaprofit['ROI'] = aaprofit['domestic_profit']/aaprofit['production_budget']\n",
    "aaprofit"
   ]
  },
  {
   "cell_type": "code",
   "execution_count": null,
   "metadata": {},
   "outputs": [],
   "source": [
    "#genres_profit = main_df_genres.groupby(main_df['genres']).mean()"
   ]
  },
  {
   "cell_type": "code",
   "execution_count": null,
   "metadata": {},
   "outputs": [],
   "source": [
    "AA       = AA_counts.keys()\n",
    "counts   = AA_counts.values\n",
    "\n",
    "\n",
    "fig, ax = plt.subplots()\n",
    "plt.figure(figsize=(20, 15)) \n",
    "\n",
    "ax1 = plt.bar(AA, counts, color='rebeccapurple') \n",
    "plt.title('Action/Adventure vs Not Action Adventure in the Top 50 Movies since 2015', fontweight='bold')\n",
    "plt.xlabel(\"Movie Type\",fontweight='bold')\n",
    "plt.ylabel(\"Movie Count\",fontweight='bold')\n",
    "\n",
    "for i, v in enumerate(counts):\n",
    "    ax.text(v + 3, i + .25, str(v), color='blue', fontweight='bold')\n",
    "\n",
    "\n",
    "#ax.text()\n",
    "plt.show()"
   ]
  },
  {
   "cell_type": "markdown",
   "metadata": {},
   "source": [
    "### Viz 2: Budget vs Profit "
   ]
  },
  {
   "cell_type": "code",
   "execution_count": 3,
   "metadata": {},
   "outputs": [],
   "source": [
    "profitscatterbyaa = movies[['film_type','production_budget','domestic_profit']]"
   ]
  },
  {
   "cell_type": "code",
   "execution_count": 4,
   "metadata": {},
   "outputs": [],
   "source": [
    "aaprofitscatter = profitscatterbyaa[profitscatterbyaa['film_type'] == 'Action/Adventure']\n",
    "aaprod = aaprofitscatter['production_budget']\n",
    "aaprof = aaprofitscatter['domestic_profit']"
   ]
  },
  {
   "cell_type": "code",
   "execution_count": 5,
   "metadata": {},
   "outputs": [],
   "source": [
    "naaprofitscatter = profitscatterbyaa[profitscatterbyaa['film_type'] == 'Not Action/Adventure']\n",
    "naaprofitscatter\n",
    "naaprod = naaprofitscatter['production_budget']\n",
    "naaprof = naaprofitscatter['domestic_profit']"
   ]
  },
  {
   "cell_type": "code",
   "execution_count": 39,
   "metadata": {
    "scrolled": true
   },
   "outputs": [
    {
     "data": {
      "image/png": "[encoded data removed]",
      "text/plain": [
       "<Figure size 720x720 with 1 Axes>"
      ]
     },
     "metadata": {
      "needs_background": "light"
     },
     "output_type": "display_data"
    }
   ],
   "source": [
    "fig = plt.figure(figsize=(10,10))\n",
    "plt.scatter(naaprod,naaprof, marker=\"^\",s=200,c='r') \n",
    "plt.scatter(aaprod,aaprof,marker=\"*\",s=200,c='k') \n",
    "\n",
    "plt.title('Profit vs Budget for Top 50 Films since 2015',fontweight='bold')\n",
    "plt.xlabel('Production Budget',fontweight='bold')\n",
    "plt.ylabel('Domestic Profit',fontweight='bold')\n",
    "#plt.figure(figsize=(15,80))\n",
    "#ax.set_xlim(0,2)\n",
    "#ax.legend()\n",
    "#ax.grid(True)\n",
    "#plt.show()\n",
    "plt.savefig('budgetprofitscatter.png')"
   ]
  },
  {
   "cell_type": "code",
   "execution_count": null,
   "metadata": {},
   "outputs": [],
   "source": [
    "fig, ax = plt.subplots()\n",
    "plt.hist(aaprof,naaprof)\n",
    "plt.hist(aaprof,naaprof) \n",
    "\n",
    "plt.title('Profit vs Budget for Top 50 Films since 2015')\n",
    "plt.xlabel('Production Budget')\n",
    "plt.ylabel('Domestic Profit')\n",
    "plt.figure(figsize=(25,18))\n",
    "\n",
    "\n",
    "ax.grid(True)\n",
    "plt.show()"
   ]
  },
  {
   "cell_type": "markdown",
   "metadata": {},
   "source": [
    "aa cost more, can yield higher profit, cluster near break even of naa, not including movies that LOST money"
   ]
  },
  {
   "cell_type": "code",
   "execution_count": null,
   "metadata": {},
   "outputs": [],
   "source": []
  }
 ],
 "metadata": {
  "kernelspec": {
   "display_name": "Python 3",
   "language": "python",
   "name": "python3"
  },
  "language_info": {
   "codemirror_mode": {
    "name": "ipython",
    "version": 3
   },
   "file_extension": ".py",
   "mimetype": "text/x-python",
   "name": "python",
   "nbconvert_exporter": "python",
   "pygments_lexer": "ipython3",
   "version": "3.7.4"
  }
 },
 "nbformat": 4,
 "nbformat_minor": 2
}
